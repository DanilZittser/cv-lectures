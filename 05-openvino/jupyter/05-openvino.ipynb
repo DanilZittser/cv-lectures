{
 "cells": [
  {
   "cell_type": "markdown",
   "id": "b4a2390a-381c-4aa7-977d-2ee86d2a76c4",
   "metadata": {},
   "source": [
    "### Информация\n",
    "- *Автор*: Зитцер Данил\n",
    "- *Дата*: среда, 8 октября 2021 г., 10:16:09\n",
    "- *Описание*: Введение в OpenVINO Toolkit\n",
    "- *Полезные ссылки*:\n",
    "    - [OpenVINO Documentation](https://docs.openvinotoolkit.org/latest/index.html)\n",
    "    - [OpenVINO on GitHub](https://github.com/openvinotoolkit)\n",
    "    - [OpenVINO Model Zoo](https://github.com/openvinotoolkit/open_model_zoo)\n",
    "    - [OpenVINO Jupyter Notebooks](https://github.com/openvinotoolkit/openvino_notebooks)"
   ]
  },
  {
   "cell_type": "markdown",
   "id": "87cb1674-faf3-44dd-a6e9-5d6d2e3784e4",
   "metadata": {},
   "source": [
    "### OpenVINO Toolkit"
   ]
  },
  {
   "cell_type": "markdown",
   "id": "68e7e9b2-45a9-475a-ba43-6e7226bf54ba",
   "metadata": {},
   "source": [
    "[Использование OpenVINO Toolkit для развёртывания ускоренных приложений глубокого обучения](https://raw.githubusercontent.com/intel-iot-devkit/smart-video-workshop/master/presentations/OpenVINO_Training_Part1_2021.4.pdf)"
   ]
  },
  {
   "cell_type": "markdown",
   "id": "3253d042-b08d-43b9-bfbb-3d5fb719d435",
   "metadata": {},
   "source": [
    "### OpenVINO Hello World\n",
    "\n",
    "Модель классификации [mobilenet-v3-small-1.0-224-tf](https://github.com/openvinotoolkit/open_model_zoo/tree/master/models/public/mobilenet-v3-small-1.0-224-tf)"
   ]
  },
  {
   "cell_type": "code",
   "execution_count": 1,
   "id": "1ac83f2f-5667-484c-b80c-8b647d6ad76a",
   "metadata": {},
   "outputs": [],
   "source": [
    "import cv2\n",
    "import json\n",
    "import matplotlib.pyplot as plt\n",
    "import numpy as np\n",
    "\n",
    "from openvino.inference_engine import IECore\n",
    "from statistics import mean\n",
    "from time import time"
   ]
  },
  {
   "cell_type": "markdown",
   "id": "42b1d30c-00bb-4fd8-8edd-bd15b46ed880",
   "metadata": {},
   "source": [
    "#### Загрузка сети"
   ]
  },
  {
   "cell_type": "code",
   "execution_count": 2,
   "id": "60ebfc5e-4bf4-4807-bde0-50624438371b",
   "metadata": {},
   "outputs": [],
   "source": [
    "ie = IECore()\n",
    "\n",
    "net = ie.read_network(\n",
    "    model='./../models/v3-small_224_1.0_float.xml',\n",
    "    weights='./../models/v3-small_224_1.0_float.bin',\n",
    ")\n",
    "exec_net = ie.load_network(network=net, device_name=\"CPU\")\n",
    "\n",
    "input_key = next(iter(exec_net.input_info))\n",
    "output_key = next(iter(exec_net.outputs.keys()))"
   ]
  },
  {
   "cell_type": "code",
   "execution_count": 3,
   "id": "a342c82b-bdcc-4508-aa6a-30edb072adf1",
   "metadata": {},
   "outputs": [
    {
     "name": "stdout",
     "output_type": "stream",
     "text": [
      "input\n",
      "MobilenetV3/Predictions/Softmax\n"
     ]
    }
   ],
   "source": [
    "print(input_key)\n",
    "print(output_key)"
   ]
  },
  {
   "cell_type": "markdown",
   "id": "9840bb85-2bf4-45d1-8eb0-1569195eabfb",
   "metadata": {},
   "source": [
    "#### Подготовка словаря объектов ImageNet"
   ]
  },
  {
   "cell_type": "code",
   "execution_count": 4,
   "id": "6cc9713e-a242-416f-8e26-30367fc44e64",
   "metadata": {},
   "outputs": [],
   "source": [
    "imagenet_classes = json.loads(open('./../utils/imagenet_class_index.json').read())\n",
    "# +1, так как 0 отведён под класс background\n",
    "imagenet_classes = {int(key) + 1: value[1] for key, value in imagenet_classes.items()}"
   ]
  },
  {
   "cell_type": "markdown",
   "id": "5be9e5c1-96ec-4c4a-827e-a21d4f232a15",
   "metadata": {},
   "source": [
    "#### Инференс модели"
   ]
  },
  {
   "cell_type": "code",
   "execution_count": 6,
   "id": "047caa76-08d9-4938-993f-b468b733e072",
   "metadata": {},
   "outputs": [],
   "source": [
    "capture = cv2.VideoCapture('./../videos/sheep.mp4')\n",
    "\n",
    "success, frame = capture.read()\n",
    "\n",
    "if not success:\n",
    "    raise ValueError(f'Can not read first frame')\n",
    "    \n",
    "inference_times = []\n",
    "\n",
    "while True:\n",
    "    success, frame = capture.read()  # bgr\n",
    "\n",
    "    if not success:\n",
    "        break\n",
    "    \n",
    "    # подготовка кадра на вход нейронной сети: [Any, Any, 3] --> [1, 3, 224, 224]\n",
    "    prepared_input = cv2.dnn.blobFromImage(image=frame, size=(224, 224))\n",
    "    # инференс модели\n",
    "    tic = time()\n",
    "    result = exec_net.infer(inputs={input_key: prepared_input})[output_key]\n",
    "    toc = time()\n",
    "    inference_times.append(toc - tic)\n",
    "    \n",
    "    result_index = result.squeeze().argmax()\n",
    "    \n",
    "    cv2.putText(frame, f'object: {imagenet_classes[result_index]}', (50, 50), cv2.FONT_HERSHEY_SIMPLEX, 0.9, (0, 255, 0), 2)\n",
    "    cv2.putText(frame, f'fps: {1.0 / mean(inference_times):.0f}', (50, 100), cv2.FONT_HERSHEY_SIMPLEX, 0.9, (0, 255, 0), 2)\n",
    "\n",
    "    cv2.imshow('Press Q for exit', frame)\n",
    "\n",
    "    key = cv2.waitKey(40) & 0xFF\n",
    "\n",
    "    if key == ord('q'):\n",
    "        break\n",
    "\n",
    "capture.release()\n",
    "cv2.destroyAllWindows()"
   ]
  },
  {
   "cell_type": "markdown",
   "id": "5d07e70c-aad6-4189-a9e5-87f35813a501",
   "metadata": {},
   "source": [
    "### "
   ]
  }
 ],
 "metadata": {
  "kernelspec": {
   "display_name": "lectures",
   "language": "python",
   "name": "lectures"
  },
  "language_info": {
   "codemirror_mode": {
    "name": "ipython",
    "version": 3
   },
   "file_extension": ".py",
   "mimetype": "text/x-python",
   "name": "python",
   "nbconvert_exporter": "python",
   "pygments_lexer": "ipython3",
   "version": "3.8.10"
  }
 },
 "nbformat": 4,
 "nbformat_minor": 5
}
